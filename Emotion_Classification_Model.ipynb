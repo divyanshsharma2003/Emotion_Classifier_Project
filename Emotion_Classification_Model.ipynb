{
  "nbformat": 4,
  "nbformat_minor": 0,
  "metadata": {
    "colab": {
      "provenance": [],
      "mount_file_id": "1AY4sPnXCbW6hvpZXEYoa5XVgC-3i2xzm",
      "authorship_tag": "ABX9TyOqnUD/LoAUBZJSF8rDQjWH",
      "include_colab_link": true
    },
    "kernelspec": {
      "name": "python3",
      "display_name": "Python 3"
    },
    "language_info": {
      "name": "python"
    }
  },
  "cells": [
    {
      "cell_type": "markdown",
      "metadata": {
        "id": "view-in-github",
        "colab_type": "text"
      },
      "source": [
        "<a href=\"https://colab.research.google.com/github/divyanshsharma2003/Emotion_Classifier_Project/blob/main/Emotion_Classification_Model.ipynb\" target=\"_parent\"><img src=\"https://colab.research.google.com/assets/colab-badge.svg\" alt=\"Open In Colab\"/></a>"
      ]
    },
    {
      "cell_type": "code",
      "source": [
        "import pandas as pd"
      ],
      "metadata": {
        "id": "lKQVkAoYeoG0"
      },
      "execution_count": null,
      "outputs": []
    },
    {
      "cell_type": "code",
      "execution_count": null,
      "metadata": {
        "id": "d_Pzr4mHXC01"
      },
      "outputs": [],
      "source": [
        "base_path = \"/content/drive/My Drive/Emotion_classifier/\"\n",
        "train_file = base_path + \"train.txt\"\n",
        "test_file = base_path + \"test.txt\"\n",
        "val_file = base_path + \"val.txt\""
      ]
    },
    {
      "cell_type": "code",
      "source": [
        "train_df = pd.read_csv(train_file, sep=\";\", names = [ \"Text\", \"Emotion\"])\n",
        "test_df = pd.read_csv(test_file, sep=\";\", names = [ \"Text\", \"Emotion\"])\n",
        "val_df = pd.read_csv(val_file, sep=\";\", names = [ \"Text\", \"Emotion\"])"
      ],
      "metadata": {
        "id": "zXjbm-a8eCX6"
      },
      "execution_count": null,
      "outputs": []
    },
    {
      "cell_type": "code",
      "source": [
        "df = pd.concat([train_df, test_df, val_df], ignore_index=True)\n",
        "df[\"Text\"].head()"
      ],
      "metadata": {
        "colab": {
          "base_uri": "https://localhost:8080/",
          "height": 241
        },
        "id": "ZkUgBQv8fUd_",
        "outputId": "48042d5f-f12f-4e74-c89d-3953afd239bd"
      },
      "execution_count": null,
      "outputs": [
        {
          "output_type": "execute_result",
          "data": {
            "text/plain": [
              "0         i'm so mad at you right now\n",
              "1     this is absolutely unacceptable\n",
              "2        i can’t believe you did that\n",
              "3              you never listen to me\n",
              "4    this infuriates me beyond belief\n",
              "Name: Text, dtype: object"
            ],
            "text/html": [
              "<div>\n",
              "<style scoped>\n",
              "    .dataframe tbody tr th:only-of-type {\n",
              "        vertical-align: middle;\n",
              "    }\n",
              "\n",
              "    .dataframe tbody tr th {\n",
              "        vertical-align: top;\n",
              "    }\n",
              "\n",
              "    .dataframe thead th {\n",
              "        text-align: right;\n",
              "    }\n",
              "</style>\n",
              "<table border=\"1\" class=\"dataframe\">\n",
              "  <thead>\n",
              "    <tr style=\"text-align: right;\">\n",
              "      <th></th>\n",
              "      <th>Text</th>\n",
              "    </tr>\n",
              "  </thead>\n",
              "  <tbody>\n",
              "    <tr>\n",
              "      <th>0</th>\n",
              "      <td>i'm so mad at you right now</td>\n",
              "    </tr>\n",
              "    <tr>\n",
              "      <th>1</th>\n",
              "      <td>this is absolutely unacceptable</td>\n",
              "    </tr>\n",
              "    <tr>\n",
              "      <th>2</th>\n",
              "      <td>i can’t believe you did that</td>\n",
              "    </tr>\n",
              "    <tr>\n",
              "      <th>3</th>\n",
              "      <td>you never listen to me</td>\n",
              "    </tr>\n",
              "    <tr>\n",
              "      <th>4</th>\n",
              "      <td>this infuriates me beyond belief</td>\n",
              "    </tr>\n",
              "  </tbody>\n",
              "</table>\n",
              "</div><br><label><b>dtype:</b> object</label>"
            ]
          },
          "metadata": {},
          "execution_count": 4
        }
      ]
    },
    {
      "cell_type": "code",
      "source": [
        "df[\"Emotion\"].value_counts()"
      ],
      "metadata": {
        "colab": {
          "base_uri": "https://localhost:8080/",
          "height": 304
        },
        "id": "Zn3hGoH2hNrA",
        "outputId": "53de6970-62f2-41a6-cdd1-ded44c581656"
      },
      "execution_count": null,
      "outputs": [
        {
          "output_type": "execute_result",
          "data": {
            "text/plain": [
              "Emotion\n",
              "joy         6761\n",
              "sadness     5797\n",
              "anger       2759\n",
              "fear        2373\n",
              "love        1641\n",
              "surprise     719\n",
              "Name: count, dtype: int64"
            ],
            "text/html": [
              "<div>\n",
              "<style scoped>\n",
              "    .dataframe tbody tr th:only-of-type {\n",
              "        vertical-align: middle;\n",
              "    }\n",
              "\n",
              "    .dataframe tbody tr th {\n",
              "        vertical-align: top;\n",
              "    }\n",
              "\n",
              "    .dataframe thead th {\n",
              "        text-align: right;\n",
              "    }\n",
              "</style>\n",
              "<table border=\"1\" class=\"dataframe\">\n",
              "  <thead>\n",
              "    <tr style=\"text-align: right;\">\n",
              "      <th></th>\n",
              "      <th>count</th>\n",
              "    </tr>\n",
              "    <tr>\n",
              "      <th>Emotion</th>\n",
              "      <th></th>\n",
              "    </tr>\n",
              "  </thead>\n",
              "  <tbody>\n",
              "    <tr>\n",
              "      <th>joy</th>\n",
              "      <td>6761</td>\n",
              "    </tr>\n",
              "    <tr>\n",
              "      <th>sadness</th>\n",
              "      <td>5797</td>\n",
              "    </tr>\n",
              "    <tr>\n",
              "      <th>anger</th>\n",
              "      <td>2759</td>\n",
              "    </tr>\n",
              "    <tr>\n",
              "      <th>fear</th>\n",
              "      <td>2373</td>\n",
              "    </tr>\n",
              "    <tr>\n",
              "      <th>love</th>\n",
              "      <td>1641</td>\n",
              "    </tr>\n",
              "    <tr>\n",
              "      <th>surprise</th>\n",
              "      <td>719</td>\n",
              "    </tr>\n",
              "  </tbody>\n",
              "</table>\n",
              "</div><br><label><b>dtype:</b> int64</label>"
            ]
          },
          "metadata": {},
          "execution_count": 5
        }
      ]
    },
    {
      "cell_type": "markdown",
      "source": [
        "#*Data Preprocessing*"
      ],
      "metadata": {
        "id": "MYiPTd2Hkr8x"
      }
    },
    {
      "cell_type": "code",
      "source": [
        "# !pip install neattext\n",
        "import neattext.functions as nfx\n",
        "# Removing Stop-words\n",
        "df[\"CleanText\"] = df[\"Text\"].apply(nfx.remove_stopwords)"
      ],
      "metadata": {
        "id": "9GrYNrokhO73"
      },
      "execution_count": null,
      "outputs": []
    },
    {
      "cell_type": "markdown",
      "source": [
        "**Splitting into Target(Y) and Input Variables(X)**"
      ],
      "metadata": {
        "id": "7gNkLl9Vm7m9"
      }
    },
    {
      "cell_type": "code",
      "source": [
        "X = df[\"CleanText\"]\n",
        "Y = df[\"Emotion\"]"
      ],
      "metadata": {
        "id": "dkP8BVxQlCUG"
      },
      "execution_count": null,
      "outputs": []
    },
    {
      "cell_type": "markdown",
      "source": [
        "**Splitting the dataset into Train (For Training) and Test (For Testing Model) Set**"
      ],
      "metadata": {
        "id": "U88_ouegnqFd"
      }
    },
    {
      "cell_type": "code",
      "source": [
        "from sklearn.model_selection import train_test_split\n",
        "x_train, x_test, y_train, y_test = train_test_split(X,Y,test_size=0.2, random_state=42)"
      ],
      "metadata": {
        "id": "BoqAruAYnXx4"
      },
      "execution_count": null,
      "outputs": []
    },
    {
      "cell_type": "markdown",
      "source": [
        "**Training The Model**"
      ],
      "metadata": {
        "id": "mcQqY5sdpj_A"
      }
    },
    {
      "cell_type": "code",
      "source": [
        "from sklearn.pipeline import Pipeline\n",
        "from sklearn.feature_extraction.text import TfidfVectorizer\n",
        "from sklearn.linear_model import LogisticRegression\n",
        "from sklearn.svm import SVC\n",
        "from sklearn.ensemble import RandomForestClassifier"
      ],
      "metadata": {
        "id": "VnEHtN5KohGs"
      },
      "execution_count": null,
      "outputs": []
    },
    {
      "cell_type": "code",
      "source": [
        "pipe_lr = Pipeline([('tfidf',TfidfVectorizer()), ('clf', LogisticRegression())])\n",
        "pipe_lr.fit(x_train, y_train)\n",
        "pipe_lr.score(x_test, y_test)"
      ],
      "metadata": {
        "colab": {
          "base_uri": "https://localhost:8080/"
        },
        "id": "k5zF1hsm4MN8",
        "outputId": "36d54b25-ad5b-4dd0-d1e5-99eda7bc774b"
      },
      "execution_count": null,
      "outputs": [
        {
          "output_type": "stream",
          "name": "stderr",
          "text": [
            "/usr/local/lib/python3.11/dist-packages/sklearn/linear_model/_logistic.py:465: ConvergenceWarning: lbfgs failed to converge (status=1):\n",
            "STOP: TOTAL NO. OF ITERATIONS REACHED LIMIT.\n",
            "\n",
            "Increase the number of iterations (max_iter) or scale the data as shown in:\n",
            "    https://scikit-learn.org/stable/modules/preprocessing.html\n",
            "Please also refer to the documentation for alternative solver options:\n",
            "    https://scikit-learn.org/stable/modules/linear_model.html#logistic-regression\n",
            "  n_iter_i = _check_optimize_result(\n"
          ]
        },
        {
          "output_type": "execute_result",
          "data": {
            "text/plain": [
              "0.8675810473815462"
            ]
          },
          "metadata": {},
          "execution_count": 10
        }
      ]
    },
    {
      "cell_type": "code",
      "source": [
        "# C=1(dafault) regularization parameter for tradeoff b/w Generalization and Low Training Error\n",
        "pipe_svm = Pipeline([('tfidf', TfidfVectorizer()),('svc', SVC(kernel = 'linear', probability=True))])\n",
        "pipe_svm.fit(x_train, y_train)\n",
        "pipe_svm.score(x_test, y_test)"
      ],
      "metadata": {
        "colab": {
          "base_uri": "https://localhost:8080/"
        },
        "id": "eCBw8K9F9tj4",
        "outputId": "7e81744e-2341-4c1f-a77b-a99edde75078"
      },
      "execution_count": null,
      "outputs": [
        {
          "output_type": "execute_result",
          "data": {
            "text/plain": [
              "0.8830423940149625"
            ]
          },
          "metadata": {},
          "execution_count": 11
        }
      ]
    },
    {
      "cell_type": "markdown",
      "source": [
        "**Accuracy & Confusion Matrix**"
      ],
      "metadata": {
        "id": "xSMCNOJ2HM7_"
      }
    },
    {
      "cell_type": "code",
      "source": [
        "from sklearn.metrics import confusion_matrix, accuracy_score\n",
        "import matplotlib.pyplot as plt\n",
        "import seaborn as sns\n",
        "\n",
        "# Predicting labels for Unseen (Test) data\n",
        "y_pred = pipe_svm.predict(x_test)\n",
        "\n",
        "# Calculating Accuracy Score\n",
        "accuracy = accuracy_score(y_pred, y_test)\n",
        "print(f\"Accuracy : {accuracy:.2f}\\n\\n\")\n",
        "\n",
        "# Generating Confusion Matrix\n",
        "cm = confusion_matrix(y_pred,y_test)\n",
        "\n",
        "# Plot Confusion Matrix using seaborn heatmap\n",
        "plt.figure(figsize=(6,5))\n",
        "sns.heatmap(cm, annot=True, fmt='d', cmap='Blues', xticklabels=pipe_lr.classes_, yticklabels=pipe_lr.classes_)\n",
        "plt.xlabel('Predicted')\n",
        "plt.ylabel('Actual')\n",
        "plt.title('Confusion Matrix')\n",
        "plt.show()\n",
        "plt.savefig(\"confusion_matrix.png\")"
      ],
      "metadata": {
        "colab": {
          "base_uri": "https://localhost:8080/",
          "height": 558
        },
        "id": "Q-YqLIJx-u7s",
        "outputId": "bd71c1b7-15a0-40f4-f81c-d33d027b793b"
      },
      "execution_count": null,
      "outputs": [
        {
          "output_type": "stream",
          "name": "stdout",
          "text": [
            "Accuracy : 0.88\n",
            "\n",
            "\n"
          ]
        },
        {
          "output_type": "display_data",
          "data": {
            "text/plain": [
              "<Figure size 600x500 with 2 Axes>"
            ],
            "image/png": "[encoded data removed]"
          },
          "metadata": {}
        },
        {
          "output_type": "display_data",
          "data": {
            "text/plain": [
              "<Figure size 640x480 with 0 Axes>"
            ]
          },
          "metadata": {}
        }
      ]
    },
    {
      "cell_type": "markdown",
      "source": [
        "**Saving The SVM model (More Accurate) For Further Use**"
      ],
      "metadata": {
        "id": "A9aceXBDO6AY"
      }
    },
    {
      "cell_type": "code",
      "source": [
        "import joblib\n",
        "joblib.dump(pipe_svm, \"svm_emotion_model.pkl\")\n",
        "\n",
        "# # Saving in my drive too\n",
        "# joblib.dump(pipe_lr, '/content/drive/MyDrive/svm_emotion_model.pkl')"
      ],
      "metadata": {
        "colab": {
          "base_uri": "https://localhost:8080/"
        },
        "id": "RyjimxYsIt2w",
        "outputId": "8913196e-ac01-4c9c-d710-a004c9252f3d"
      },
      "execution_count": null,
      "outputs": [
        {
          "output_type": "execute_result",
          "data": {
            "text/plain": [
              "['/content/drive/MyDrive/svm_emotion_model.pkl']"
            ]
          },
          "metadata": {},
          "execution_count": 19
        }
      ]
    },
    {
      "cell_type": "code",
      "source": [
        "# # TESTING THE MODEL (Working Fine)\n",
        "model = joblib.load('svm_emotion_model.pkl')\n",
        "print(model.predict([\"This is unacceptable\"]))\n"
      ],
      "metadata": {
        "colab": {
          "base_uri": "https://localhost:8080/"
        },
        "id": "WzBgO52TPvv1",
        "outputId": "e0549514-b749-42fc-cd52-a51a689d6507"
      },
      "execution_count": null,
      "outputs": [
        {
          "output_type": "stream",
          "name": "stdout",
          "text": [
            "['anger']\n"
          ]
        }
      ]
    },
    {
      "cell_type": "code",
      "source": [
        "\n"
      ],
      "metadata": {
        "id": "8vGKrdBxQarl"
      },
      "execution_count": null,
      "outputs": []
    },
    {
      "cell_type": "code",
      "source": [],
      "metadata": {
        "id": "vHGMEIpRzXml"
      },
      "execution_count": null,
      "outputs": []
    }
  ]
}